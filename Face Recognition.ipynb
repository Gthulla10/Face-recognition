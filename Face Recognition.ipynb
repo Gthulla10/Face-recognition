{
 "cells": [
  {
   "cell_type": "code",
   "execution_count": 2,
   "metadata": {},
   "outputs": [],
   "source": [
    "import os\n",
    "import face_recognition"
   ]
  },
  {
   "cell_type": "code",
   "execution_count": 7,
   "metadata": {},
   "outputs": [],
   "source": [
    "images = os.listdir(r'C:\\Users\\Gaurav\\Downloads\\images\\images')\n",
    "images = images[1:]"
   ]
  },
  {
   "cell_type": "code",
   "execution_count": 8,
   "metadata": {},
   "outputs": [
    {
     "data": {
      "text/plain": [
       "['barak obama.jpg',\n",
       " 'Bill Gates.jpg',\n",
       " 'Jeff Bezos.jpg',\n",
       " 'Mark Zuckerberg.jpg',\n",
       " 'Ray Dalio.jpg',\n",
       " 'Shah Rukh Khan.jpg',\n",
       " 'test.jpg']"
      ]
     },
     "execution_count": 8,
     "metadata": {},
     "output_type": "execute_result"
    }
   ],
   "source": [
    "images"
   ]
  },
  {
   "cell_type": "code",
   "execution_count": 10,
   "metadata": {},
   "outputs": [],
   "source": [
    "image_to_be_matched = face_recognition.load_image_file(r'C:\\Users\\Gaurav\\Downloads\\images\\images\\test.jpg')"
   ]
  },
  {
   "cell_type": "code",
   "execution_count": 11,
   "metadata": {},
   "outputs": [],
   "source": [
    "image_to_be_matched_encoded = face_recognition.face_encodings(\n",
    "    image_to_be_matched)[0]"
   ]
  },
  {
   "cell_type": "code",
   "execution_count": 14,
   "metadata": {},
   "outputs": [
    {
     "name": "stdout",
     "output_type": "stream",
     "text": [
      "Not matched: barak obama.jpg\n",
      "Not matched: Bill Gates.jpg\n",
      "Not matched: Jeff Bezos.jpg\n",
      "Not matched: Mark Zuckerberg.jpg\n",
      "Not matched: Ray Dalio.jpg\n",
      "Matched: Shah Rukh Khan.jpg\n",
      "Matched: test.jpg\n"
     ]
    }
   ],
   "source": [
    "for image in images:\n",
    "    # load the image\n",
    "    current_image = face_recognition.load_image_file(r\"C:\\Users\\Gaurav\\Downloads\\images\\images/\" + image)\n",
    "\n",
    "    # encode the loaded image into a feature vector\n",
    "    current_image_encoded = face_recognition.face_encodings(current_image)[0]\n",
    "\n",
    "    # match your image with the image and check if it matches\n",
    "    result = face_recognition.compare_faces(\n",
    "        [image_to_be_matched_encoded], current_image_encoded)\n",
    "\n",
    "    # check if it was a match\n",
    "    if result[0] == True:\n",
    "        print(\"Matched: \" + image)\n",
    "    else:\n",
    "        print(\"Not matched: \" + image)"
   ]
  },
  {
   "cell_type": "code",
   "execution_count": null,
   "metadata": {},
   "outputs": [],
   "source": []
  }
 ],
 "metadata": {
  "kernelspec": {
   "display_name": "Python 3",
   "language": "python",
   "name": "python3"
  },
  "language_info": {
   "codemirror_mode": {
    "name": "ipython",
    "version": 3
   },
   "file_extension": ".py",
   "mimetype": "text/x-python",
   "name": "python",
   "nbconvert_exporter": "python",
   "pygments_lexer": "ipython3",
   "version": "3.7.4"
  }
 },
 "nbformat": 4,
 "nbformat_minor": 2
}
